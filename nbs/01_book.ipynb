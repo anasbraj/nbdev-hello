{
 "cells": [
  {
   "cell_type": "markdown",
   "id": "c9af789c-ac6c-4053-8bdd-d91343fb7d4a",
   "metadata": {},
   "source": [
    "# Book\n",
    "> This is a class representation of a book for our bookstore."
   ]
  },
  {
   "cell_type": "code",
   "execution_count": null,
   "id": "a51fb3cc-dd80-4f3d-a0b3-61a26ca8bf88",
   "metadata": {},
   "outputs": [],
   "source": [
    "#| default_exp book"
   ]
  },
  {
   "cell_type": "code",
   "execution_count": null,
   "id": "718acf96-952a-4455-90a7-d672bb38ad30",
   "metadata": {},
   "outputs": [],
   "source": [
    "#| hide\n",
    "from nbdev.showdoc import *"
   ]
  },
  {
   "cell_type": "code",
   "execution_count": null,
   "id": "b8191078-cce9-4647-85da-a917c562a9c9",
   "metadata": {},
   "outputs": [],
   "source": [
    "# export\n",
    "class Book():\n",
    "    \"\"\"Class representation of book\"\"\"\n",
    "    \n",
    "    def _init(\n",
    "        title, # title of the book\n",
    "        author, # book's author\n",
    "    ):\n",
    "        self.title = title\n",
    "        self.author = author\n",
    "        \n",
    "    def _str_():\n",
    "        return f\"'{title}', by {author}\"\n",
    "    "
   ]
  },
  {
   "cell_type": "code",
   "execution_count": null,
   "id": "94a3e0ed-6917-4e7c-8816-82703325bb24",
   "metadata": {},
   "outputs": [
    {
     "name": "stdout",
     "output_type": "stream",
     "text": [
      "empty exp\n"
     ]
    }
   ],
   "source": [
    "# export \n",
    "print(\"empty exp\")"
   ]
  },
  {
   "cell_type": "code",
   "execution_count": null,
   "id": "2f54a071-cd0f-4c89-a89a-91f03bcbeb04",
   "metadata": {},
   "outputs": [],
   "source": [
    "#| hide\n",
    "import nbdev; nbdev.nbdev_export()"
   ]
  },
  {
   "cell_type": "code",
   "execution_count": null,
   "id": "aac57c0b-faf4-4919-9bf5-81ba62877d6e",
   "metadata": {},
   "outputs": [],
   "source": []
  },
  {
   "cell_type": "code",
   "execution_count": null,
   "id": "867c4a11-825a-49cb-b206-4d4a24c67c48",
   "metadata": {},
   "outputs": [],
   "source": []
  },
  {
   "cell_type": "code",
   "execution_count": null,
   "id": "b1930230-c513-4f40-9b41-3659ede1e2d1",
   "metadata": {},
   "outputs": [],
   "source": []
  }
 ],
 "metadata": {
  "kernelspec": {
   "display_name": "Python 3 (ipykernel)",
   "language": "python",
   "name": "python3"
  }
 },
 "nbformat": 4,
 "nbformat_minor": 5
}
